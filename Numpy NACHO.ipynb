{
 "cells": [
  {
   "cell_type": "code",
   "execution_count": 2,
   "id": "fa279d25",
   "metadata": {},
   "outputs": [],
   "source": [
    "import numpy as np"
   ]
  },
  {
   "cell_type": "code",
   "execution_count": 2,
   "id": "04167ed6",
   "metadata": {},
   "outputs": [
    {
     "name": "stdout",
     "output_type": "stream",
     "text": [
      "1.20.3\n"
     ]
    }
   ],
   "source": [
    "print(np.__version__)"
   ]
  },
  {
   "cell_type": "markdown",
   "id": "e729fae3",
   "metadata": {},
   "source": [
    "## Arrays\n",
    "Un array es una estructura de datos que consiste en una colección de elementos (valores o variables), cada uno identificado por al menos un índice o clave. Un array se almacena de modo que la posición de cada elemento se pueda calcular a partir de su tupla de índice mediante una fórmula matemática. El tipo más simple de array es un array lineal, también llamado array unidimensional."
   ]
  },
  {
   "cell_type": "markdown",
   "id": "2e88f0d1",
   "metadata": {},
   "source": [
    "En numpy:\n",
    "* Cada dimensión se denomina axis\n",
    "* El número de dimensiones se denomina rank\n",
    "* La lista de dimensiones con su correspondiente longitud se denomina shape\n",
    "* El número total de elementos (multiplicación de la longitud de las dimensiones) se denomina size"
   ]
  },
  {
   "cell_type": "code",
   "execution_count": 3,
   "id": "3a7c39ac",
   "metadata": {},
   "outputs": [
    {
     "data": {
      "text/plain": [
       "array([1, 2, 3, 4, 5, 6, 7, 8, 9])"
      ]
     },
     "execution_count": 3,
     "metadata": {},
     "output_type": "execute_result"
    }
   ],
   "source": [
    "arr =np.array([1,2,3,4,5,6,7,8,9])\n",
    "arr"
   ]
  },
  {
   "cell_type": "code",
   "execution_count": 4,
   "id": "df4da464",
   "metadata": {},
   "outputs": [
    {
     "name": "stdout",
     "output_type": "stream",
     "text": [
      "[1 2 3 4 5 6 7 8 9]\n"
     ]
    }
   ],
   "source": [
    "print(arr)"
   ]
  },
  {
   "cell_type": "code",
   "execution_count": 5,
   "id": "38fe399f",
   "metadata": {},
   "outputs": [
    {
     "name": "stdout",
     "output_type": "stream",
     "text": [
      "<class 'numpy.ndarray'>\n"
     ]
    }
   ],
   "source": [
    "# imprimo el tipo de elemento que quiero averiguar\n",
    "print(type(arr))"
   ]
  },
  {
   "cell_type": "code",
   "execution_count": 6,
   "id": "69b6cf39",
   "metadata": {},
   "outputs": [
    {
     "data": {
      "text/plain": [
       "array([[1, 2, 3],\n",
       "       [4, 5, 6]])"
      ]
     },
     "execution_count": 6,
     "metadata": {},
     "output_type": "execute_result"
    }
   ],
   "source": [
    "# dimensiones de un array\n",
    "arr2d = np.array([[1,2,3],[4,5,6]])\n",
    "arr2d"
   ]
  },
  {
   "cell_type": "code",
   "execution_count": 7,
   "id": "8bf28401",
   "metadata": {},
   "outputs": [
    {
     "name": "stdout",
     "output_type": "stream",
     "text": [
      "tiene 2 dimensiones el array anterior\n"
     ]
    }
   ],
   "source": [
    "#cantidad de dimensiones con ndim\n",
    "print('tiene',arr2d.ndim,'dimensiones el array anterior')"
   ]
  },
  {
   "cell_type": "code",
   "execution_count": 8,
   "id": "07b84818",
   "metadata": {},
   "outputs": [
    {
     "data": {
      "text/plain": [
       "array([[[ 1,  2,  3],\n",
       "        [ 4,  5,  6]],\n",
       "\n",
       "       [[ 7,  8,  9],\n",
       "        [10, 11, 12]]])"
      ]
     },
     "execution_count": 8,
     "metadata": {},
     "output_type": "execute_result"
    }
   ],
   "source": [
    "# ahora con 3 dimensiones!\n",
    "arr3d = np.array([[[1,2,3],[4,5,6]],[[7,8,9],[10,11,12]]])\n",
    "arr3d"
   ]
  },
  {
   "cell_type": "code",
   "execution_count": 9,
   "id": "89cc18fb",
   "metadata": {},
   "outputs": [
    {
     "name": "stdout",
     "output_type": "stream",
     "text": [
      "tiene 3 dimensiones el array anterior\n"
     ]
    }
   ],
   "source": [
    "#cantidad de dimensiones con ndim\n",
    "print('tiene',arr3d.ndim,'dimensiones el array anterior')"
   ]
  },
  {
   "cell_type": "code",
   "execution_count": 10,
   "id": "edf93b51",
   "metadata": {},
   "outputs": [
    {
     "data": {
      "text/plain": [
       "array([[[[[[1, 2, 3]]]]]])"
      ]
     },
     "execution_count": 10,
     "metadata": {},
     "output_type": "execute_result"
    }
   ],
   "source": [
    "# arrays con mas de 3 dimensiones con ndmin\n",
    "arr6d = np.array([1,2,3], ndmin=6)\n",
    "arr6d"
   ]
  },
  {
   "cell_type": "code",
   "execution_count": 11,
   "id": "c40684b3",
   "metadata": {},
   "outputs": [
    {
     "name": "stdout",
     "output_type": "stream",
     "text": [
      "tiene 6 dimensiones el array anterior\n"
     ]
    }
   ],
   "source": [
    "#cantidad de dimensiones con ndim\n",
    "print('tiene',arr6d.ndim,'dimensiones el array anterior')"
   ]
  },
  {
   "cell_type": "markdown",
   "id": "03963765",
   "metadata": {},
   "source": [
    "Recordar que simplemente puedo contar la cantidad de corchetes para saber la cantidad de dimensiones"
   ]
  },
  {
   "cell_type": "code",
   "execution_count": 12,
   "id": "4ab49a0f",
   "metadata": {},
   "outputs": [
    {
     "name": "stdout",
     "output_type": "stream",
     "text": [
      "tamaño de arr: 9\n",
      "tamaño de arr2d: 6\n",
      "tamaño de arr3d: 12\n",
      "tamaño de arr6d: 3\n"
     ]
    }
   ],
   "source": [
    "# calculando el tamaño de los arrays con size (se refiere a la cantidad total de elementos que tiene)\n",
    "\n",
    "print('tamaño de arr:', arr.size)\n",
    "print('tamaño de arr2d:', arr2d.size)\n",
    "print('tamaño de arr3d:', arr3d.size)\n",
    "print('tamaño de arr6d:', arr6d.size)"
   ]
  },
  {
   "cell_type": "code",
   "execution_count": 13,
   "id": "1f433e31",
   "metadata": {},
   "outputs": [
    {
     "data": {
      "text/plain": [
       "array([1, 2, 3, 4, 5, 6, 7, 8, 9])"
      ]
     },
     "execution_count": 13,
     "metadata": {},
     "output_type": "execute_result"
    }
   ],
   "source": [
    "# accediendo a los elementos de un array\n",
    "#llamando al primer array para usarlo de ejemplo\n",
    "arr"
   ]
  },
  {
   "cell_type": "code",
   "execution_count": 15,
   "id": "2037c46c",
   "metadata": {},
   "outputs": [
    {
     "name": "stdout",
     "output_type": "stream",
     "text": [
      "array original: [1 2 3 4 5 6 7 8 9]\n",
      "1\n",
      "9\n",
      "1 9\n",
      "10\n"
     ]
    }
   ],
   "source": [
    "# accediendo a varios elementos de ese array\n",
    "print('array original:', arr) \n",
    "print(arr[0]) # elemento en posicion 0 (1)\n",
    "print(arr[8]) # elemento en posicion 8 (9)\n",
    "print(arr[0], arr[8]) # elemento en posicion 0 y posicion 8 (1 y 9)\n",
    "print(arr[0]+arr[8]) # suma de los elementos que estan en 0 y 8 (1+9) "
   ]
  },
  {
   "cell_type": "code",
   "execution_count": 16,
   "id": "f4ecf5ac",
   "metadata": {},
   "outputs": [
    {
     "name": "stdout",
     "output_type": "stream",
     "text": [
      "[[1 2 3]\n",
      " [4 5 6]]\n"
     ]
    }
   ],
   "source": [
    "# acceder a elementos de mas de una dimension (tener en cuenta las posiciones del array multidemensional)\n",
    "# llamando al array de 2 dimensiones\n",
    "print(arr2d)"
   ]
  },
  {
   "cell_type": "code",
   "execution_count": 17,
   "id": "43830890",
   "metadata": {},
   "outputs": [
    {
     "name": "stdout",
     "output_type": "stream",
     "text": [
      "5\n"
     ]
    }
   ],
   "source": [
    "# quiero sacar el 5\n",
    "print(arr2d[1,1])"
   ]
  },
  {
   "cell_type": "code",
   "execution_count": 18,
   "id": "8200d8bb",
   "metadata": {},
   "outputs": [
    {
     "name": "stdout",
     "output_type": "stream",
     "text": [
      "3\n"
     ]
    }
   ],
   "source": [
    "# quiero sacar el 3\n",
    "print(arr2d[0,2])"
   ]
  },
  {
   "cell_type": "code",
   "execution_count": 19,
   "id": "5a34a3e6",
   "metadata": {},
   "outputs": [
    {
     "name": "stdout",
     "output_type": "stream",
     "text": [
      "array completo [1 2 3 4 5 6 7 8 9]\n",
      "array cortado entre 2 y 6 [3 4 5 6]\n"
     ]
    }
   ],
   "source": [
    "# slicing de arrays (tener en cuenta que seria arr[inicio:fin])\n",
    "# usando de ejemplo al arr\n",
    "print('array completo',arr)\n",
    "# quiero cortar ente la posicion 2 y la posicion 6\n",
    "print('array cortado entre 2 y 6',arr[2:6])"
   ]
  },
  {
   "cell_type": "code",
   "execution_count": 20,
   "id": "41de0b06",
   "metadata": {},
   "outputs": [
    {
     "name": "stdout",
     "output_type": "stream",
     "text": [
      "array desde la posicion inicial 3 hasta el fin [4 5 6 7 8 9]\n",
      "array desde la posicion final 6 hasta el inicio [1 2 3 4 5 6]\n"
     ]
    }
   ],
   "source": [
    "# en caso de no querer indicar inicio o fin seria algo asi\n",
    "# desde una posicion inicial dada hasta el fin\n",
    "print('array desde la posicion inicial 3 hasta el fin',arr[3:])\n",
    "# desde el posicion final dada hasta el inicio\n",
    "print('array desde la posicion final 6 hasta el inicio',arr[:6])"
   ]
  },
  {
   "cell_type": "code",
   "execution_count": 21,
   "id": "6cd73bf4",
   "metadata": {},
   "outputs": [
    {
     "name": "stdout",
     "output_type": "stream",
     "text": [
      "array completo [1 2 3 4 5 6 7 8 9]\n",
      "array con saltos de 3 [1 4 7]\n",
      "array con saltos de 2 entre un segmento dado [3 5 7]\n"
     ]
    }
   ],
   "source": [
    "# usando el slicing por step, es decir que \"corte cada x pasos\"\n",
    "# usando de ejemplo al arr\n",
    "print('array completo',arr)\n",
    "print('array con saltos de 3',arr[::3]) # no se le inidico ni inicio ni fin asi toma todo\n",
    "print('array con saltos de 2 entre un segmento dado',arr[2:8:2])"
   ]
  },
  {
   "cell_type": "code",
   "execution_count": 22,
   "id": "ef8048bb",
   "metadata": {},
   "outputs": [
    {
     "name": "stdout",
     "output_type": "stream",
     "text": [
      "[[1 2 3]\n",
      " [4 5 6]]\n"
     ]
    }
   ],
   "source": [
    "# slicing de array de varaias dimensiones\n",
    "# llamando al array de 2 dimensiones\n",
    "print(arr2d)"
   ]
  },
  {
   "cell_type": "code",
   "execution_count": 23,
   "id": "0a7d12ad",
   "metadata": {},
   "outputs": [
    {
     "name": "stdout",
     "output_type": "stream",
     "text": [
      "sacando los valores de 2 y 5: [2 5]\n"
     ]
    }
   ],
   "source": [
    "# usando la misma logica, quiero sacar los valores de 2 y 5\n",
    "print('sacando los valores de 2 y 5:', arr2d[0:2,1])"
   ]
  },
  {
   "cell_type": "code",
   "execution_count": 24,
   "id": "ca1957ec",
   "metadata": {},
   "outputs": [
    {
     "name": "stdout",
     "output_type": "stream",
     "text": [
      "tiempo de lista para Python: 0:00:00.058842\n"
     ]
    }
   ],
   "source": [
    "# demostracion de velocidad entre numpy y python con las listas\n",
    "from datetime import datetime\n",
    "python_list = [i for i in range(1000000)]\n",
    "start = datetime.now()\n",
    "python_list = [i+3 for i in python_list]\n",
    "end = datetime.now()\n",
    "totalpython = end-start\n",
    "print('tiempo de lista para Python:',totalpython)"
   ]
  },
  {
   "cell_type": "code",
   "execution_count": 25,
   "id": "2ed6e698",
   "metadata": {},
   "outputs": [
    {
     "name": "stdout",
     "output_type": "stream",
     "text": [
      "tiempo de lista para Numpy: 0:00:00.001032\n"
     ]
    }
   ],
   "source": [
    "numpy_list = np.array([i for i in range(1000000)])\n",
    "start = datetime.now()\n",
    "numpy_list +=3\n",
    "end = datetime.now()\n",
    "totalnumpy = end-start\n",
    "print('tiempo de lista para Numpy:',totalnumpy)"
   ]
  },
  {
   "cell_type": "code",
   "execution_count": 26,
   "id": "c6e60471",
   "metadata": {},
   "outputs": [
    {
     "name": "stdout",
     "output_type": "stream",
     "text": [
      "Numpy es 57.01744186046512 veces mas rapido!\n"
     ]
    }
   ],
   "source": [
    "# cuantas veces es mas rapido numpy que python?\n",
    "print('Numpy es',totalpython/totalnumpy,'veces mas rapido!')"
   ]
  },
  {
   "cell_type": "code",
   "execution_count": 27,
   "id": "32046e3c",
   "metadata": {},
   "outputs": [
    {
     "name": "stdout",
     "output_type": "stream",
     "text": [
      "array de una dimension: [1 2 3 4 5 6 7 8 9]\n",
      "forma de array de una dimension: (9,)\n",
      "\n",
      "array de 2 dimensiones:\n",
      " [[1 2 3]\n",
      " [4 5 6]]\n",
      "forma de array de 2 dimensiones: (2, 3)\n",
      "\n",
      "array de 3 dimensiones:\n",
      " [[[ 1  2  3]\n",
      "  [ 4  5  6]]\n",
      "\n",
      " [[ 7  8  9]\n",
      "  [10 11 12]]]\n",
      "forma de array de 3 dimensiones: (2, 2, 3)\n"
     ]
    }
   ],
   "source": [
    "# forma de los diferentes arrays  con \"shape\" (me dice como es la forma del array y dimensiones)\n",
    "# llamo a los difernetes arrays para mostrar su forma\n",
    "print('array de una dimension:', arr)\n",
    "print('forma de array de una dimension:', arr.shape)\n",
    "print()\n",
    "print('array de 2 dimensiones:\\n', arr2d)\n",
    "print('forma de array de 2 dimensiones:', arr2d.shape)\n",
    "print()\n",
    "print('array de 3 dimensiones:\\n', arr3d)\n",
    "print('forma de array de 3 dimensiones:', arr3d.shape)"
   ]
  },
  {
   "cell_type": "code",
   "execution_count": 7,
   "id": "127e37ff",
   "metadata": {},
   "outputs": [
    {
     "name": "stdout",
     "output_type": "stream",
     "text": [
      "array de una dimension original [1 2 3 4 5 6 7 8 9]\n",
      "array de una dimension transformado a (3,3):\n",
      " [[1 2 3]\n",
      " [4 5 6]\n",
      " [7 8 9]]\n"
     ]
    }
   ],
   "source": [
    "# redimensionando un array con \"reshape\" (podemos cambiar las dimensiones de un array)\n",
    "# ejemplo con el array de una dimension\n",
    "print('array de una dimension original', arr)\n",
    "print('array de una dimension transformado a (3,3):\\n', arr.reshape(3,3))"
   ]
  },
  {
   "cell_type": "code",
   "execution_count": 29,
   "id": "1aa9fb99",
   "metadata": {},
   "outputs": [
    {
     "name": "stdout",
     "output_type": "stream",
     "text": [
      "array de 2 dimensiones:\n",
      " [[1 2 3]\n",
      " [4 5 6]]\n",
      "array de 2 dimensiones transformado a 1 dimension: [1 2 3 4 5 6]\n",
      "\n",
      "array de 3 dimensiones:\n",
      " [[[ 1  2  3]\n",
      "  [ 4  5  6]]\n",
      "\n",
      " [[ 7  8  9]\n",
      "  [10 11 12]]]\n",
      "array de 3 dimensiones transformado a 1 dimension: [ 1  2  3  4  5  6  7  8  9 10 11 12]\n"
     ]
    }
   ],
   "source": [
    "# convirtiendo un array multidimensional en un array de una dimension con reshape(-1)\n",
    "# utilizando el array de 2 y de 3 dimensiones\n",
    "print('array de 2 dimensiones:\\n',arr2d)\n",
    "print('array de 2 dimensiones transformado a 1 dimension:',arr2d.reshape(-1))\n",
    "print()\n",
    "print('array de 3 dimensiones:\\n',arr3d)\n",
    "print('array de 3 dimensiones transformado a 1 dimension:',arr3d.reshape(-1))"
   ]
  },
  {
   "cell_type": "code",
   "execution_count": 30,
   "id": "89eb45e2",
   "metadata": {},
   "outputs": [
    {
     "name": "stdout",
     "output_type": "stream",
     "text": [
      "array de una dimension original [1 2 3 4 5 6 7 8 9]\n",
      "buscando en que posicion esta el numero 6:\n",
      "(array([5], dtype=int64),)\n"
     ]
    }
   ],
   "source": [
    "# buscando elementos dentro de un array con where (me devuelve en que posicion esta dentro del array)\n",
    "# uso de ejemplo el array de 1 dimension\n",
    "print('array de una dimension original', arr)\n",
    "print('buscando en que posicion esta el numero 6:')\n",
    "search = np.where(arr==6)\n",
    "print(search)"
   ]
  },
  {
   "cell_type": "code",
   "execution_count": 31,
   "id": "7c2522ea",
   "metadata": {},
   "outputs": [
    {
     "name": "stdout",
     "output_type": "stream",
     "text": [
      "array desordenado: [ 2  6  4  3 87 10  0 45  7]\n",
      "array ordenado: [ 0  2  3  4  6  7 10 45 87]\n"
     ]
    }
   ],
   "source": [
    "# Utilizando el metodo \"sort\" para ordenar un array, tanto para numeros como letras\n",
    "# creando un nuevo array desordenado\n",
    "arrdes = np.array([2,6,4,3,87,10,0,45,7])\n",
    "print('array desordenado:', arrdes)\n",
    "# ordenando el array\n",
    "arrord = np.sort(arrdes)\n",
    "print('array ordenado:',arrord)"
   ]
  },
  {
   "cell_type": "code",
   "execution_count": 32,
   "id": "96fe3bab",
   "metadata": {},
   "outputs": [
    {
     "name": "stdout",
     "output_type": "stream",
     "text": [
      "array desordenado: ['pedro' 'maria' 'alberto' 'juan' 'bautista']\n",
      "array ordenado: ['alberto' 'bautista' 'juan' 'maria' 'pedro']\n"
     ]
    }
   ],
   "source": [
    "# ordenando arrays de palabras\n",
    "# creando un nuevo array desordenado\n",
    "arrdespalabra = np.array(['pedro','maria','alberto','juan','bautista'])\n",
    "print('array desordenado:', arrdespalabra)\n",
    "# ordenando el array\n",
    "arrordpalabra = np.sort(arrdespalabra)\n",
    "print('array ordenado:',arrordpalabra)"
   ]
  },
  {
   "cell_type": "code",
   "execution_count": 34,
   "id": "5c7f8dc1",
   "metadata": {},
   "outputs": [
    {
     "name": "stdout",
     "output_type": "stream",
     "text": [
      "array desordenado:\n",
      " [[10  4 25]\n",
      " [32  4 12]]\n",
      "array ordenado:\n",
      " [[ 4 10 25]\n",
      " [ 4 12 32]]\n"
     ]
    }
   ],
   "source": [
    "# ordenando arrays de matrices\n",
    "# creando un nuevo array desordenado\n",
    "arrdesmatrix = np.array([[10,4,25],[32,4,12]])\n",
    "print('array desordenado:\\n', arrdesmatrix)\n",
    "# ordenando el array\n",
    "arrordmatrix = np.sort(arrdesmatrix)\n",
    "print('array ordenado:\\n',arrordmatrix)"
   ]
  },
  {
   "cell_type": "code",
   "execution_count": 37,
   "id": "0ae21fff",
   "metadata": {},
   "outputs": [
    {
     "name": "stdout",
     "output_type": "stream",
     "text": [
      "1-array de 1 dimension: [1 2 3 4 5 6 7 8 9]\n",
      "2-como se ve el filtro aplicado?: [False False False False False  True  True  True  True]\n",
      "3-nuevo array con filtro aplicado al array de 1 dimension: [6 7 8 9]\n"
     ]
    }
   ],
   "source": [
    "# creacion de filtros\n",
    "# llamamos al array de 1 dimension para el ejemplo\n",
    "print('1-array de 1 dimension:',arr)\n",
    "# creacion del filtro (quiero los valores del arr mayores a 5)\n",
    "filtro = arr>5 \n",
    "nuevoarr = arr[filtro]\n",
    "print('2-como se ve el filtro aplicado?:',filtro)\n",
    "print('3-nuevo array con filtro aplicado al array de 1 dimension:',nuevoarr)"
   ]
  },
  {
   "cell_type": "code",
   "execution_count": 40,
   "id": "4db85648",
   "metadata": {},
   "outputs": [
    {
     "name": "stdout",
     "output_type": "stream",
     "text": [
      "array de 10 elementos [0 1 2 3 4 5 6 7 8 9]\n"
     ]
    }
   ],
   "source": [
    "# creacion de array a tarves de datos numericos con arange\n",
    "# creacion de un array con arange donde np.arange(inicio,final,paso,dtype)\n",
    "# el inicio esta en default=0 ,el paso esta en default=1 y el dtype=None\n",
    "# array de 10 elementos numericos\n",
    "arange = np.arange(10)\n",
    "print('array de 10 elementos',arange)"
   ]
  },
  {
   "cell_type": "code",
   "execution_count": 41,
   "id": "a1cce833",
   "metadata": {},
   "outputs": [
    {
     "name": "stdout",
     "output_type": "stream",
     "text": [
      "array ente 5 y 10: [5 6 7 8 9]\n"
     ]
    }
   ],
   "source": [
    "# creando un array a traves de arange desde un inicio a un final\n",
    "arange2 = np.arange(5,10)\n",
    "print('array ente 5 y 10:',arange2)"
   ]
  },
  {
   "cell_type": "code",
   "execution_count": 47,
   "id": "ebcedd60",
   "metadata": {},
   "outputs": [
    {
     "name": "stdout",
     "output_type": "stream",
     "text": [
      "array ente 5 y 10 de paso 2: [5 7 9]\n"
     ]
    }
   ],
   "source": [
    "# creando un array a traves de arange desde un inicio a un final con un paso de 2\n",
    "arange3 = np.arange(5,10,2)\n",
    "print('array ente 5 y 10 de paso 2:',arange3)"
   ]
  },
  {
   "cell_type": "code",
   "execution_count": 50,
   "id": "958d8a54",
   "metadata": {},
   "outputs": [
    {
     "name": "stdout",
     "output_type": "stream",
     "text": [
      "array ente 5 y 10 de paso 2: [5. 7. 9.]\n"
     ]
    }
   ],
   "source": [
    "# creando un array a traves de arange desde un inicio a un final con un paso de 2 y de tipo \"float\"\n",
    "# usando el dtype que por default=None\n",
    "arange3 = np.arange(5,10,2, dtype=float)\n",
    "print('array ente 5 y 10 de paso 2:',arange3)"
   ]
  },
  {
   "cell_type": "code",
   "execution_count": 59,
   "id": "5474bc94",
   "metadata": {},
   "outputs": [
    {
     "name": "stdout",
     "output_type": "stream",
     "text": [
      "tamaño de cada elemento de la lista: 48\n",
      "tamaño de la lista: 48000\n"
     ]
    }
   ],
   "source": [
    "# uso de memoria de los array vs las listas de python\n",
    "# tamaño de elementos y lista de python\n",
    "import sys\n",
    "listapython = range(1000)\n",
    "print('tamaño de cada elemento de la lista:', sys.getsizeof(listapython))\n",
    "print('tamaño de la lista:', sys.getsizeof(listapython)*len(listapython))"
   ]
  },
  {
   "cell_type": "code",
   "execution_count": 58,
   "id": "bc9a4df1",
   "metadata": {},
   "outputs": [
    {
     "name": "stdout",
     "output_type": "stream",
     "text": [
      "tamaño de cada elemento de la lista: 4\n",
      "tamaño de la lista: 4000\n"
     ]
    }
   ],
   "source": [
    "# tamaño de elementos y lista de numpy\n",
    "listanumpy = np.arange(1000)\n",
    "print('tamaño de cada elemento de la lista:', listanumpy.itemsize)\n",
    "print('tamaño de la lista:', listanumpy.itemsize*listanumpy.size)"
   ]
  },
  {
   "cell_type": "code",
   "execution_count": 60,
   "id": "4a9e1ebb",
   "metadata": {},
   "outputs": [
    {
     "name": "stdout",
     "output_type": "stream",
     "text": [
      "arrays de ceros de una dimension y 5 elementos: [0. 0. 0. 0. 0.]\n"
     ]
    }
   ],
   "source": [
    "# arrays de ceros o de unos donde np.zeros(shape,dtype=None)\n",
    "# creando arrays de ceros de 1 dimension y 5 elementos\n",
    "ceros5 = np.zeros(5)\n",
    "print('arrays de ceros de una dimension y 5 elementos:',ceros5)"
   ]
  },
  {
   "cell_type": "code",
   "execution_count": 66,
   "id": "0e313f94",
   "metadata": {},
   "outputs": [
    {
     "name": "stdout",
     "output_type": "stream",
     "text": [
      "arrays de ceros de una dimension y 5 elementos:\n",
      " [[0. 0. 0. 0. 0.]\n",
      " [0. 0. 0. 0. 0.]]\n",
      "forma del array: (2, 5)\n"
     ]
    }
   ],
   "source": [
    "# creando arrays de ceros de 2 dimensiones\n",
    "ceros25 = np.zeros((2,5))\n",
    "print('arrays de ceros de una dimension y 5 elementos:\\n',ceros25)\n",
    "print('forma del array:',ceros25.shape)"
   ]
  },
  {
   "cell_type": "code",
   "execution_count": 67,
   "id": "1f867dcf",
   "metadata": {},
   "outputs": [
    {
     "name": "stdout",
     "output_type": "stream",
     "text": [
      "arrays de ceros de una dimension y 5 elementos:\n",
      " [[0 0 0 0 0]\n",
      " [0 0 0 0 0]]\n",
      "forma del array: (2, 5)\n"
     ]
    }
   ],
   "source": [
    "# creando arrays de ceros de 2 dimensiones de tipo entero\n",
    "ceros25int = np.zeros((2,5),dtype=int)\n",
    "print('arrays de ceros de una dimension y 5 elementos:\\n',ceros25int)\n",
    "print('forma del array:',ceros25int.shape)"
   ]
  },
  {
   "cell_type": "code",
   "execution_count": 70,
   "id": "95b60efd",
   "metadata": {},
   "outputs": [
    {
     "name": "stdout",
     "output_type": "stream",
     "text": [
      "el array de inicio en 2, final en 20 y dividido en 6 partes: [ 2  5  9 12 16 20]\n"
     ]
    }
   ],
   "source": [
    "# usando linspace para crear un array donde np.linspace(inicio,final,num=50,dtype=None)\n",
    "# el num=50 (por defecto en 50) hace referencia a la cantidad de veces que se divide el intervalo de inicio-final\n",
    "# el dtype en default None puede ser float, int\n",
    "# creando un array con inicio en 2, final en 20 y dividido en 6 (NO CONFUNDIR CON step!) y que sea entero\n",
    "\n",
    "arrlin = np.linspace(2,20, num=6, dtype=int)\n",
    "print('el array de inicio en 2, final en 20 y dividido en 6 partes:',arrlin)"
   ]
  },
  {
   "cell_type": "code",
   "execution_count": 114,
   "id": "2924fd38",
   "metadata": {},
   "outputs": [
    {
     "name": "stdout",
     "output_type": "stream",
     "text": [
      "[7.11383385e-04 9.37916046e-01 8.57508694e-01 1.81844653e-01\n",
      " 2.45257949e-01 2.56100864e-01 7.96972812e-02 6.46302531e-01\n",
      " 4.30928552e-01 1.64627760e-02]\n"
     ]
    }
   ],
   "source": [
    "# creacion de array con random para valores uniformes y distribucion normal ()\n",
    "# creacion de un array uniforme\n",
    "arruni = np.random.rand(10)\n",
    "print(arruni)"
   ]
  },
  {
   "cell_type": "code",
   "execution_count": 78,
   "id": "2994caec",
   "metadata": {},
   "outputs": [
    {
     "name": "stdout",
     "output_type": "stream",
     "text": [
      "[-0.83770418  0.02929718  0.68392166 -1.64865984  0.43945969 -0.04404117\n",
      "  1.17628001 -1.49817274  0.88753032 -0.06033291]\n"
     ]
    }
   ],
   "source": [
    "# creacion de un array de distribucion normal usando randn\n",
    "arrnormal = np.random.randn(10)\n",
    "print(arrnormal)"
   ]
  },
  {
   "cell_type": "code",
   "execution_count": 80,
   "id": "8010fa10",
   "metadata": {},
   "outputs": [
    {
     "name": "stdout",
     "output_type": "stream",
     "text": [
      "el ar1 es: [1 2 3 4 5 6 7 8 9]\n",
      "el ar2 es: [5 5 5 6 6 6 7 7 8]\n"
     ]
    }
   ],
   "source": [
    "# operaciones matematicas con arrays\n",
    "# creacion de 2 nuevos arrays para este ejemplo\n",
    "ar1 = np.arange(1,10)\n",
    "ar2 = np.linspace(5,8,9, dtype=int) #lo dejo como entero para verlo mejor\n",
    "print('el ar1 es:',ar1)\n",
    "print('el ar2 es:',ar2)"
   ]
  },
  {
   "cell_type": "code",
   "execution_count": 83,
   "id": "c59e593c",
   "metadata": {},
   "outputs": [
    {
     "name": "stdout",
     "output_type": "stream",
     "text": [
      "la suma de 20 al array ar1 es: [21 22 23 24 25 26 27 28 29]\n",
      "la suma de 7 al array ar2 es: [12 12 12 13 13 13 14 14 15]\n"
     ]
    }
   ],
   "source": [
    "# suma de numeros a un array\n",
    "# sumando 20 a los elementos del array 1\n",
    "sumaar1 = ar1+20\n",
    "print('la suma de 20 al array ar1 es:',sumaar1)\n",
    "# sumando 7 a los elementos del array 2\n",
    "sumaar2 = ar2+7\n",
    "print('la suma de 7 al array ar2 es:',sumaar2)"
   ]
  },
  {
   "cell_type": "code",
   "execution_count": 87,
   "id": "ceba0b93",
   "metadata": {},
   "outputs": [
    {
     "name": "stdout",
     "output_type": "stream",
     "text": [
      "sumandole 100 a los elementos de ar1: [101 102 103 104 105 106 107 108 109]\n"
     ]
    }
   ],
   "source": [
    "# otra forma de sumar un numero a un array entero con add\n",
    "sumaadd = np.add(ar1,100)\n",
    "print('sumandole 100 a los elementos de ar1:',sumaadd)"
   ]
  },
  {
   "cell_type": "code",
   "execution_count": 85,
   "id": "e80dff2d",
   "metadata": {},
   "outputs": [
    {
     "name": "stdout",
     "output_type": "stream",
     "text": [
      "la suma de ar1 y ar2 es: [ 6  7  8 10 11 12 14 15 17]\n"
     ]
    }
   ],
   "source": [
    "# suma entre arrays de mismo size, usando los array anteriores usando add\n",
    "sumatotal = np.add(ar1,ar2)\n",
    "print('la suma de ar1 y ar2 es:',sumatotal)"
   ]
  },
  {
   "cell_type": "code",
   "execution_count": 86,
   "id": "deda7de2",
   "metadata": {},
   "outputs": [
    {
     "name": "stdout",
     "output_type": "stream",
     "text": [
      "la resta de ar1 y ar2 es: [-4 -3 -2 -2 -1  0  0  1  1]\n"
     ]
    }
   ],
   "source": [
    "# resta entre arrays de mismo size, usando los array anteriores usando subtract\n",
    "restatotal = np.subtract(ar1,ar2)\n",
    "print('la resta de ar1 y ar2 es:',restatotal)"
   ]
  },
  {
   "cell_type": "code",
   "execution_count": 88,
   "id": "cfa4addb",
   "metadata": {},
   "outputs": [
    {
     "name": "stdout",
     "output_type": "stream",
     "text": [
      "valores de los arrays por separado\n",
      "1-primer array: [1 2 3 4]\n",
      "2-segundo array: [5 6 7 8]\n",
      "el array concatenado seria: [1 2 3 4 5 6 7 8]\n"
     ]
    }
   ],
   "source": [
    "# concatenando arrays de 1 o varias dimensiones usando concatenate()\n",
    "# creando nuevos arrays para el ejemplp\n",
    "a1 = np.array([1,2,3,4])\n",
    "a2 = np.array([5,6,7,8])\n",
    "print('valores de los arrays por separado')\n",
    "print('1-primer array:',a1)\n",
    "print('2-segundo array:',a2)\n",
    "acon = np.concatenate((a1,a2))\n",
    "print('el array concatenado seria:',acon)"
   ]
  },
  {
   "cell_type": "code",
   "execution_count": 90,
   "id": "d9ba67cf",
   "metadata": {},
   "outputs": [
    {
     "name": "stdout",
     "output_type": "stream",
     "text": [
      "valores de los arrays por separado\n",
      "1-primer array:\n",
      " [[1 2 3]\n",
      " [4 5 6]]\n",
      "2-segundo array:\n",
      " [[ 7  8  9]\n",
      " [10 11 12]]\n",
      "el array concatenado seria:\n",
      " [[ 1  2  3]\n",
      " [ 4  5  6]\n",
      " [ 7  8  9]\n",
      " [10 11 12]]\n"
     ]
    }
   ],
   "source": [
    "# concatenando arrays de varias dimensiones\n",
    "# creando arrays para el ejemplo\n",
    "a1x = np.array([[1,2,3],[4,5,6]])\n",
    "a2x = np.array([[7,8,9],[10,11,12]])\n",
    "print('valores de los arrays por separado')\n",
    "print('1-primer array:\\n',a1x)\n",
    "print('2-segundo array:\\n',a2x)\n",
    "aconx = np.concatenate((a1x,a2x))\n",
    "print('el array concatenado seria:\\n',aconx)"
   ]
  },
  {
   "cell_type": "code",
   "execution_count": 94,
   "id": "93da107a",
   "metadata": {},
   "outputs": [
    {
     "name": "stdout",
     "output_type": "stream",
     "text": [
      "1-primer array: [1 2 3 4]\n",
      "2-segundo array: [5 6 7 8]\n",
      "\n",
      "apilando el a1 y el a2 queda:\n",
      " [[1 2 3 4]\n",
      " [5 6 7 8]]\n"
     ]
    }
   ],
   "source": [
    "# apilando arrays con stack\n",
    "# usamos los mismos arrays que ejemplo anterior\n",
    "# apilando el a1 y a2\n",
    "print('1-primer array:',a1)\n",
    "print('2-segundo array:',a2)\n",
    "print()\n",
    "stack1 = np.stack((a1,a2))\n",
    "print('apilando el a1 y el a2 queda:\\n',stack1)"
   ]
  },
  {
   "cell_type": "code",
   "execution_count": 97,
   "id": "44c7c56d",
   "metadata": {},
   "outputs": [
    {
     "name": "stdout",
     "output_type": "stream",
     "text": [
      "1-primer array: [1 2 3 4]\n",
      "2-segundo array: [5 6 7 8]\n",
      "\n",
      "apilando vertical el a1 y el a2 queda:\n",
      " [[1 2 3 4]\n",
      " [5 6 7 8]]\n"
     ]
    }
   ],
   "source": [
    "# apilando de forma vertical con vstack y de forma horizontal con hstack\n",
    "# ejemplo para vstack usando los arrays anteriores\n",
    "print('1-primer array:',a1)\n",
    "print('2-segundo array:',a2)\n",
    "print()\n",
    "vstack1 = np.vstack((a1,a2))\n",
    "print('apilando vertical el a1 y el a2 queda:\\n',vstack1)"
   ]
  },
  {
   "cell_type": "code",
   "execution_count": 98,
   "id": "c2a544de",
   "metadata": {},
   "outputs": [
    {
     "name": "stdout",
     "output_type": "stream",
     "text": [
      "1-primer array: [1 2 3 4]\n",
      "2-segundo array: [5 6 7 8]\n",
      "\n",
      "apilando horizontal el a1 y el a2 queda:\n",
      " [1 2 3 4 5 6 7 8]\n"
     ]
    }
   ],
   "source": [
    "# ejemplo para hstack usando los arrays anteriores\n",
    "print('1-primer array:',a1)\n",
    "print('2-segundo array:',a2)\n",
    "print()\n",
    "hstack1 = np.hstack((a1,a2))\n",
    "print('apilando horizontal el a1 y el a2 queda:\\n',hstack1)"
   ]
  },
  {
   "cell_type": "code",
   "execution_count": 100,
   "id": "0b9df00c",
   "metadata": {},
   "outputs": [
    {
     "name": "stdout",
     "output_type": "stream",
     "text": [
      "el ar1 es: [1 2 3 4 5 6 7 8 9]\n",
      "el ar1 dividido en 3 arrays: [array([1, 2, 3]), array([4, 5, 6]), array([7, 8, 9])]\n"
     ]
    }
   ],
   "source": [
    "# split para dividir un array\n",
    "# usando el array de 1 dimension ar1\n",
    "print('el ar1 es:',ar1)\n",
    "# diviendo el array en 3\n",
    "split1 = np.split(ar1,3)\n",
    "print('el ar1 dividido en 3 arrays:',split1)"
   ]
  },
  {
   "cell_type": "code",
   "execution_count": 103,
   "id": "9964e216",
   "metadata": {},
   "outputs": [
    {
     "name": "stdout",
     "output_type": "stream",
     "text": [
      "el ar1 es: [1 2 3 4 5 6 7 8 9]\n",
      "insertando un 999 en la posicion 4 del ar1: [  1   2   3   4 999   5   6   7   8   9]\n"
     ]
    }
   ],
   "source": [
    "# insertando elementos en un array np.insert(arr,posicion,numero)\n",
    "# arr es el array al que quiero trabajar\n",
    "# posicion es en donde quiero insertarlo\n",
    "# numero es el valor a insertar\n",
    "\n",
    "# usando el array de 1 dimension ar1\n",
    "print('el ar1 es:',ar1)\n",
    "# insertando un 999 en la posicion 4\n",
    "ar1insert = np.insert(ar1,4,999)\n",
    "print('insertando un 999 en la posicion 4 del ar1:',ar1insert)"
   ]
  },
  {
   "cell_type": "code",
   "execution_count": 105,
   "id": "ba8431cb",
   "metadata": {},
   "outputs": [
    {
     "name": "stdout",
     "output_type": "stream",
     "text": [
      "el ar1 es: [1 2 3 4 5 6 7 8 9]\n",
      "insertando un 555 en la ultima posicion del ar1: [  1   2   3   4   5   6   7   8   9 555]\n"
     ]
    }
   ],
   "source": [
    "# insertando elementos en la ultima posicion de un array con np.append(arr,numero)\n",
    "# arr es el array al que quiero trabajar\n",
    "# numero es el valor a insertar\n",
    "\n",
    "# usando el array de 1 dimension ar1\n",
    "print('el ar1 es:',ar1)\n",
    "# insertando un 555 en la posicion posicion final\n",
    "ar1append = np.append(ar1,555)\n",
    "print('insertando un 555 en la ultima posicion del ar1:',ar1append)"
   ]
  },
  {
   "cell_type": "code",
   "execution_count": 106,
   "id": "9f4acd73",
   "metadata": {},
   "outputs": [
    {
     "name": "stdout",
     "output_type": "stream",
     "text": [
      "el ar1 es: [1 2 3 4 5 6 7 8 9]\n",
      "borrando la posicion 4 del ar1: [1 2 3 4 6 7 8 9]\n"
     ]
    }
   ],
   "source": [
    "# borrando elementos de un array con np.delete(arr,posicion)\n",
    "# arr es el array que quiero trabajar\n",
    "# posicion es la posicion que quiero trabajar\n",
    "\n",
    "# usando el array de 1 dimension ar1\n",
    "print('el ar1 es:',ar1)\n",
    "# borrando la poscion 4 del ar1\n",
    "ar1del = np.delete(ar1,4)\n",
    "print('borrando la posicion 4 del ar1:',ar1del)"
   ]
  }
 ],
 "metadata": {
  "kernelspec": {
   "display_name": "Python 3 (ipykernel)",
   "language": "python",
   "name": "python3"
  },
  "language_info": {
   "codemirror_mode": {
    "name": "ipython",
    "version": 3
   },
   "file_extension": ".py",
   "mimetype": "text/x-python",
   "name": "python",
   "nbconvert_exporter": "python",
   "pygments_lexer": "ipython3",
   "version": "3.9.7"
  }
 },
 "nbformat": 4,
 "nbformat_minor": 5
}
